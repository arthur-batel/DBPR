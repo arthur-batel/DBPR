{
 "cells": [
  {
   "cell_type": "markdown",
   "source": [
    "# Promis dataset preprocessing\n",
    "### Import"
   ],
   "metadata": {
    "collapsed": false
   },
   "id": "3f91591122382be0"
  },
  {
   "cell_type": "code",
   "source": [
    "%load_ext autoreload\n",
    "%autoreload 2"
   ],
   "metadata": {
    "collapsed": false,
    "ExecuteTime": {
     "end_time": "2025-01-16T10:14:24.447402Z",
     "start_time": "2025-01-16T10:14:24.438093Z"
    }
   },
   "id": "5c572fedcc3d884",
   "outputs": [],
   "execution_count": 1
  },
  {
   "cell_type": "code",
   "source": [
    "import sys\n",
    "sys.path.append('../')\n",
    "from data_utils.preprocessing_utilities import stat_unique, remove_duplicates, densify,create_q2k, encode_attr, quadruplet_format, parse_data, split_data, save_to_csv,get_metadata, split_data_vertically,rescaling_dict,one_hot_encoding,split_small_data_vertically\n",
    "\n",
    "import json\n",
    "import pandas as pd\n",
    "import numpy as np"
   ],
   "metadata": {
    "collapsed": false,
    "ExecuteTime": {
     "end_time": "2025-01-16T10:14:26.034518Z",
     "start_time": "2025-01-16T10:14:24.482803Z"
    }
   },
   "id": "763506e3fc4c3ef3",
   "outputs": [],
   "execution_count": 2
  },
  {
   "cell_type": "code",
   "source": [
    "raw_data = pd.read_csv('../1-raw_data/promis_flipped.csv', encoding=\"ISO-8859-15\", low_memory=False)\n",
    "raw_data = raw_data.drop(columns=['Unnamed: 0', 'Unnamed: 0.1'])\n",
    "raw_data =  raw_data.rename(columns={\"caseid\": \"user_id\", \"dimension_id\":\"supdimension_id\", \"subdimension_id\":\"dimension_id\",\"question_id\":\"item_id\"})\n",
    "raw_data.head()"
   ],
   "metadata": {
    "collapsed": false,
    "ExecuteTime": {
     "end_time": "2025-01-16T10:14:36.278362Z",
     "start_time": "2025-01-16T10:14:26.090424Z"
    }
   },
   "id": "1a7130a281aaf6d8",
   "outputs": [
    {
     "data": {
      "text/plain": [
       "   user_id  item_id  correct     supdimension_id dimension_id\n",
       "0       84  EDANG55      NaN  Emotional Distress  Anger Items\n",
       "1       85  EDANG55      NaN  Emotional Distress  Anger Items\n",
       "2       86  EDANG55      NaN  Emotional Distress  Anger Items\n",
       "3       87  EDANG55      NaN  Emotional Distress  Anger Items\n",
       "4       88  EDANG55      NaN  Emotional Distress  Anger Items"
      ],
      "text/html": [
       "<div>\n",
       "<style scoped>\n",
       "    .dataframe tbody tr th:only-of-type {\n",
       "        vertical-align: middle;\n",
       "    }\n",
       "\n",
       "    .dataframe tbody tr th {\n",
       "        vertical-align: top;\n",
       "    }\n",
       "\n",
       "    .dataframe thead th {\n",
       "        text-align: right;\n",
       "    }\n",
       "</style>\n",
       "<table border=\"1\" class=\"dataframe\">\n",
       "  <thead>\n",
       "    <tr style=\"text-align: right;\">\n",
       "      <th></th>\n",
       "      <th>user_id</th>\n",
       "      <th>item_id</th>\n",
       "      <th>correct</th>\n",
       "      <th>supdimension_id</th>\n",
       "      <th>dimension_id</th>\n",
       "    </tr>\n",
       "  </thead>\n",
       "  <tbody>\n",
       "    <tr>\n",
       "      <th>0</th>\n",
       "      <td>84</td>\n",
       "      <td>EDANG55</td>\n",
       "      <td>NaN</td>\n",
       "      <td>Emotional Distress</td>\n",
       "      <td>Anger Items</td>\n",
       "    </tr>\n",
       "    <tr>\n",
       "      <th>1</th>\n",
       "      <td>85</td>\n",
       "      <td>EDANG55</td>\n",
       "      <td>NaN</td>\n",
       "      <td>Emotional Distress</td>\n",
       "      <td>Anger Items</td>\n",
       "    </tr>\n",
       "    <tr>\n",
       "      <th>2</th>\n",
       "      <td>86</td>\n",
       "      <td>EDANG55</td>\n",
       "      <td>NaN</td>\n",
       "      <td>Emotional Distress</td>\n",
       "      <td>Anger Items</td>\n",
       "    </tr>\n",
       "    <tr>\n",
       "      <th>3</th>\n",
       "      <td>87</td>\n",
       "      <td>EDANG55</td>\n",
       "      <td>NaN</td>\n",
       "      <td>Emotional Distress</td>\n",
       "      <td>Anger Items</td>\n",
       "    </tr>\n",
       "    <tr>\n",
       "      <th>4</th>\n",
       "      <td>88</td>\n",
       "      <td>EDANG55</td>\n",
       "      <td>NaN</td>\n",
       "      <td>Emotional Distress</td>\n",
       "      <td>Anger Items</td>\n",
       "    </tr>\n",
       "  </tbody>\n",
       "</table>\n",
       "</div>"
      ]
     },
     "execution_count": 3,
     "metadata": {},
     "output_type": "execute_result"
    }
   ],
   "execution_count": 3
  },
  {
   "cell_type": "code",
   "source": [
    "print(len(raw_data))\n",
    "all_data = raw_data.dropna()\n",
    "print(len(all_data))"
   ],
   "metadata": {
    "collapsed": false,
    "ExecuteTime": {
     "end_time": "2025-01-16T10:14:37.701524Z",
     "start_time": "2025-01-16T10:14:36.387074Z"
    }
   },
   "id": "d6b0feeae63d2c54",
   "outputs": [
    {
     "name": "stdout",
     "output_type": "stream",
     "text": [
      "21957187\n",
      "2256115\n"
     ]
    }
   ],
   "execution_count": 4
  },
  {
   "cell_type": "code",
   "source": [
    "stat_unique(all_data, None)\n",
    "stat_unique(all_data, ['user_id', 'item_id'])\n",
    "stat_unique(all_data, 'user_id')\n",
    "stat_unique(all_data, 'item_id')\n",
    "stat_unique(all_data, 'dimension_id')\n",
    "stat_unique(all_data, 'supdimension_id')"
   ],
   "metadata": {
    "collapsed": false,
    "ExecuteTime": {
     "end_time": "2025-01-16T10:14:38.079025Z",
     "start_time": "2025-01-16T10:14:37.719527Z"
    }
   },
   "id": "e30ed94d4360a47d",
   "outputs": [
    {
     "name": "stdout",
     "output_type": "stream",
     "text": [
      "Total length: 2256115\n",
      "Number of unique [user_id,item_id]: 2256115\n",
      "Number of unique user_id: 21096\n",
      "Number of unique item_id: 941\n",
      "Number of unique dimension_id: 29\n",
      "Number of unique supdimension_id: 6\n"
     ]
    }
   ],
   "execution_count": 5
  },
  {
   "cell_type": "markdown",
   "source": [
    "### Clean Nan values"
   ],
   "metadata": {
    "collapsed": false
   },
   "id": "9d2a99907e563075"
  },
  {
   "cell_type": "code",
   "source": "cleaned_data = all_data.dropna(subset=['user_id','item_id','dimension_id','correct', 'supdimension_id'], axis='index')",
   "metadata": {
    "collapsed": false,
    "ExecuteTime": {
     "end_time": "2025-01-16T10:14:38.278043Z",
     "start_time": "2025-01-16T10:14:38.082570Z"
    }
   },
   "id": "10b1e79bf17e1a46",
   "outputs": [],
   "execution_count": 6
  },
  {
   "cell_type": "markdown",
   "source": [
    "### Remove duplicated user and id rows"
   ],
   "metadata": {
    "collapsed": false
   },
   "id": "1cf51a190511d02f"
  },
  {
   "cell_type": "code",
   "source": "unduplicated_data = remove_duplicates(cleaned_data,key_attrs=['user_id','item_id','dimension_id', 'supdimension_id'],agg_attrs=[])",
   "metadata": {
    "collapsed": false,
    "ExecuteTime": {
     "end_time": "2025-01-16T10:14:38.987727Z",
     "start_time": "2025-01-16T10:14:38.290047Z"
    }
   },
   "id": "128895437c128e14",
   "outputs": [],
   "execution_count": 7
  },
  {
   "cell_type": "markdown",
   "source": [
    "### Filter Data"
   ],
   "metadata": {
    "collapsed": false
   },
   "id": "4a633bb837a7af3b"
  },
  {
   "cell_type": "code",
   "source": [
    "filtered_data_0 = unduplicated_data\n",
    "filtered_q_nb = 1\n",
    "filtered_u_nb = 0\n",
    "filtered_d_nb = 0\n",
    "filtered_subd_nb = 0\n",
    "while filtered_q_nb!=0 or filtered_u_nb!=0 or filtered_d_nb!=0 or filtered_subd_nb!=0: \n",
    "    # filter items\n",
    "    filtered_data_1, filtered_q_nb = densify(filtered_data_0,'item_id','user_id',1835)\n",
    "    # filter users\n",
    "    filtered_data_2, filtered_u_nb = densify(filtered_data_1,'user_id','item_id',102)\n",
    "    # filter knowledges\n",
    "    filtered_data_3, filtered_d_nb = densify(filtered_data_2,'dimension_id','item_id',1)\n",
    "    # filter knowledges\n",
    "    filtered_data_4, filtered_subd_nb = densify(filtered_data_3,'supdimension_id','item_id',1)\n",
    "    filtered_data_0 = filtered_data_4\n",
    "    \n",
    "stat_unique(filtered_data_0, None)\n",
    "stat_unique(filtered_data_0, ['user_id', 'item_id'])\n",
    "stat_unique(filtered_data_0, 'user_id')\n",
    "stat_unique(filtered_data_0, 'item_id')\n",
    "stat_unique(filtered_data_0, 'dimension_id')\n",
    "stat_unique(filtered_data_0, 'supdimension_id')"
   ],
   "metadata": {
    "collapsed": false,
    "ExecuteTime": {
     "end_time": "2025-01-16T10:14:40.537147Z",
     "start_time": "2025-01-16T10:14:39.000509Z"
    }
   },
   "id": "b128f7723c388e6e",
   "outputs": [
    {
     "name": "stdout",
     "output_type": "stream",
     "text": [
      "filter 151 item_id\n",
      "filter 4217 user_id\n",
      "filter 0 dimension_id\n",
      "filter 0 supdimension_id\n",
      "filter 0 item_id\n",
      "filter 0 user_id\n",
      "filter 0 dimension_id\n",
      "filter 0 supdimension_id\n",
      "Total length: 1805842\n",
      "Number of unique [user_id,item_id]: 1805842\n",
      "Number of unique user_id: 16879\n",
      "Number of unique item_id: 790\n",
      "Number of unique dimension_id: 15\n",
      "Number of unique supdimension_id: 6\n"
     ]
    }
   ],
   "execution_count": 8
  },
  {
   "cell_type": "markdown",
   "source": [
    "### Encoding"
   ],
   "metadata": {
    "collapsed": false
   },
   "id": "5f38b00b83903cf8"
  },
  {
   "cell_type": "code",
   "source": [
    "# renumber the users\n",
    "u_enc_data, u2n = encode_attr(filtered_data_0, \"user_id\")"
   ],
   "metadata": {
    "collapsed": false,
    "ExecuteTime": {
     "end_time": "2025-01-02T16:53:35.268457Z",
     "start_time": "2025-01-02T16:53:09.964774Z"
    }
   },
   "id": "461aaa3f05f101f3",
   "outputs": [],
   "execution_count": 9
  },
  {
   "metadata": {
    "ExecuteTime": {
     "end_time": "2025-01-02T16:54:01.202518Z",
     "start_time": "2025-01-02T16:53:35.279885Z"
    }
   },
   "cell_type": "code",
   "source": [
    "# renumber the items\n",
    "q_enc_data, q2n = encode_attr(u_enc_data, \"item_id\")"
   ],
   "id": "4ad08e7dad6b96ac",
   "outputs": [],
   "execution_count": 10
  },
  {
   "metadata": {
    "ExecuteTime": {
     "end_time": "2025-01-02T16:54:27.325993Z",
     "start_time": "2025-01-02T16:54:01.214138Z"
    }
   },
   "cell_type": "code",
   "source": [
    "# renumber the dimensions\n",
    "d_enc_data, d2n = encode_attr(q_enc_data, \"dimension_id\")"
   ],
   "id": "9d3b2c3dff642633",
   "outputs": [],
   "execution_count": 11
  },
  {
   "metadata": {
    "ExecuteTime": {
     "end_time": "2025-01-02T16:54:52.813624Z",
     "start_time": "2025-01-02T16:54:27.337775Z"
    }
   },
   "cell_type": "code",
   "source": [
    "# renumber the subdimensions\n",
    "sd_enc_data, sd2n = encode_attr(d_enc_data, \"supdimension_id\")"
   ],
   "id": "be1837755d88d935",
   "outputs": [],
   "execution_count": 12
  },
  {
   "cell_type": "markdown",
   "source": [
    "### Maps creation"
   ],
   "metadata": {
    "collapsed": false
   },
   "id": "3b9e92e115b938bd"
  },
  {
   "cell_type": "code",
   "source": "q2k, k2q = create_q2k(sd_enc_data)",
   "metadata": {
    "collapsed": false,
    "ExecuteTime": {
     "end_time": "2025-01-02T16:54:52.965384Z",
     "start_time": "2025-01-02T16:54:52.825966Z"
    }
   },
   "id": "124352496823ae86",
   "outputs": [],
   "execution_count": 13
  },
  {
   "metadata": {},
   "cell_type": "markdown",
   "source": "### Rescaling responses",
   "id": "d9bbf26af710c979"
  },
  {
   "metadata": {
    "ExecuteTime": {
     "end_time": "2025-01-02T16:54:53.014239Z",
     "start_time": "2025-01-02T16:54:52.978191Z"
    }
   },
   "cell_type": "code",
   "source": [
    "# Create an empty dictionary to store the item ID and response range\n",
    "promis_metadata = pd.read_csv(\"promis_complete_metadata.csv\")\n",
    "\n",
    "[response_range_dict, min_response_dict, max_response_dict] = rescaling_dict(promis_metadata,q2n)"
   ],
   "id": "eea0b6a2f5edcabd",
   "outputs": [
    {
     "name": "stdout",
     "output_type": "stream",
     "text": [
      "'clinic01' were removed from dataset\n",
      "'clinic02' were removed from dataset\n",
      "'clinic03' were removed from dataset\n",
      "'clinic04' were removed from dataset\n",
      "'clinic05' were removed from dataset\n",
      "'clinic06' were removed from dataset\n",
      "'clinic07' were removed from dataset\n",
      "'clinic08' were removed from dataset\n",
      "'clinic09' were removed from dataset\n",
      "'clinic10' were removed from dataset\n",
      "'clinic11' were removed from dataset\n",
      "'clinic12' were removed from dataset\n",
      "'clinic14' were removed from dataset\n",
      "'clinic15' were removed from dataset\n",
      "'clinic16' were removed from dataset\n",
      "'clinic17' were removed from dataset\n",
      "'clinic18' were removed from dataset\n",
      "'clinic19' were removed from dataset\n",
      "'clinic20' were removed from dataset\n",
      "'clinic119' were removed from dataset\n",
      "'clinic120' were removed from dataset\n",
      "'clinic21' were removed from dataset\n",
      "'clinic22' were removed from dataset\n",
      "'clinic23' were removed from dataset\n",
      "'clinic24' were removed from dataset\n",
      "'clinic25' were removed from dataset\n",
      "'clinic26' were removed from dataset\n",
      "'clinic28' were removed from dataset\n",
      "'clinic29' were removed from dataset\n",
      "'clinic30' were removed from dataset\n",
      "'clinic31' were removed from dataset\n",
      "'clinic32' were removed from dataset\n",
      "'clinic34' were removed from dataset\n",
      "'clinic35' were removed from dataset\n",
      "'clinic36' were removed from dataset\n",
      "'clinic37' were removed from dataset\n",
      "'clinic39' were removed from dataset\n",
      "'clinic40' were removed from dataset\n",
      "'clinic41' were removed from dataset\n",
      "'clinic42' were removed from dataset\n",
      "'clinic43' were removed from dataset\n",
      "'clinic44' were removed from dataset\n",
      "'clinic45' were removed from dataset\n",
      "'clinic46' were removed from dataset\n",
      "'clinic47' were removed from dataset\n",
      "'clinic48' were removed from dataset\n",
      "'clinic49' were removed from dataset\n",
      "'clinic50' were removed from dataset\n",
      "'clinic51' were removed from dataset\n",
      "'clinic52' were removed from dataset\n",
      "'clinic53' were removed from dataset\n",
      "'clinic54' were removed from dataset\n",
      "'clinic55' were removed from dataset\n",
      "'clinic56' were removed from dataset\n",
      "'clinic57' were removed from dataset\n",
      "'clinic58' were removed from dataset\n",
      "'clinic59' were removed from dataset\n",
      "'clinic60' were removed from dataset\n",
      "'clinic62' were removed from dataset\n",
      "'clinic64' were removed from dataset\n",
      "'clinic65' were removed from dataset\n",
      "'clinic66' were removed from dataset\n",
      "'clinic67' were removed from dataset\n",
      "'clinic68' were removed from dataset\n",
      "'clinic69' were removed from dataset\n",
      "'clinic70' were removed from dataset\n",
      "'clinic71' were removed from dataset\n",
      "'clinic72' were removed from dataset\n",
      "'clinic73' were removed from dataset\n",
      "'clinic74' were removed from dataset\n",
      "'clinic75' were removed from dataset\n",
      "'clinic76' were removed from dataset\n",
      "'clinic78' were removed from dataset\n",
      "'clinic79' were removed from dataset\n",
      "'clinic80' were removed from dataset\n",
      "'clinic82' were removed from dataset\n",
      "'clinic83' were removed from dataset\n",
      "'clinic84' were removed from dataset\n",
      "'clinic86' were removed from dataset\n",
      "'clinic87' were removed from dataset\n",
      "'clinic88' were removed from dataset\n",
      "'clinic91' were removed from dataset\n",
      "'clinic92' were removed from dataset\n",
      "'clinic93' were removed from dataset\n",
      "'clinic95' were removed from dataset\n",
      "'clinic96' were removed from dataset\n",
      "'clinic97' were removed from dataset\n",
      "'socio03' were removed from dataset\n",
      "'socio04' were removed from dataset\n",
      "'socio06' were removed from dataset\n",
      "'socio09' were removed from dataset\n",
      "'socio12' were removed from dataset\n",
      "'socio13' were removed from dataset\n",
      "'socio14' were removed from dataset\n",
      "'socio15' were removed from dataset\n",
      "'socio16' were removed from dataset\n",
      "'socio17' were removed from dataset\n",
      "'global01' were removed from dataset\n",
      "'global02' were removed from dataset\n",
      "'global03' were removed from dataset\n",
      "'global04' were removed from dataset\n",
      "'global05' were removed from dataset\n",
      "'global06' were removed from dataset\n",
      "'global07' were removed from dataset\n",
      "'global08' were removed from dataset\n",
      "'global09' were removed from dataset\n",
      "'global10' were removed from dataset\n",
      "'MASQ1' were removed from dataset\n",
      "'MASQ2' were removed from dataset\n",
      "'MASQ3' were removed from dataset\n",
      "'MASQ4' were removed from dataset\n",
      "'MASQ5' were removed from dataset\n",
      "'MASQ6' were removed from dataset\n",
      "'MASQ7' were removed from dataset\n",
      "'MASQ8' were removed from dataset\n",
      "'MASQ9' were removed from dataset\n",
      "'MASQ10' were removed from dataset\n",
      "'MASQ11' were removed from dataset\n",
      "'CESD1' were removed from dataset\n",
      "'CESD3' were removed from dataset\n",
      "'CESD4' were removed from dataset\n",
      "'CESD5' were removed from dataset\n",
      "'CESD6' were removed from dataset\n",
      "'CESD7' were removed from dataset\n",
      "'CESD8' were removed from dataset\n",
      "'CESD9' were removed from dataset\n",
      "'CESD10' were removed from dataset\n",
      "'CESD11' were removed from dataset\n",
      "'CESD12' were removed from dataset\n",
      "'CESD13' were removed from dataset\n",
      "'CESD14' were removed from dataset\n",
      "'CESD15' were removed from dataset\n",
      "'CESD16' were removed from dataset\n",
      "'CESD17' were removed from dataset\n",
      "'CESD18' were removed from dataset\n",
      "'CESD19' were removed from dataset\n",
      "'CESD20' were removed from dataset\n",
      "'MH01' were removed from dataset\n",
      "'MH02' were removed from dataset\n",
      "'MH03' were removed from dataset\n",
      "'MH04' were removed from dataset\n",
      "'MH05' were removed from dataset\n",
      "'AQ1' were removed from dataset\n",
      "'AQ2' were removed from dataset\n",
      "'AQ3' were removed from dataset\n",
      "'AQ4' were removed from dataset\n",
      "'AQ5' were removed from dataset\n",
      "'AQ6' were removed from dataset\n",
      "'AQ7' were removed from dataset\n",
      "'AQ8' were removed from dataset\n",
      "'AQ9' were removed from dataset\n",
      "'AQ10' were removed from dataset\n",
      "'AQ11' were removed from dataset\n",
      "'AQ12' were removed from dataset\n",
      "'AUDIT1' were removed from dataset\n",
      "'AUDIT2' were removed from dataset\n",
      "'AUDIT3' were removed from dataset\n",
      "'AUDIT4' were removed from dataset\n",
      "'AUDIT5' were removed from dataset\n",
      "'AUDIT6' were removed from dataset\n",
      "'AUDIT7' were removed from dataset\n",
      "'AUDIT8' were removed from dataset\n",
      "'AUDIT9' were removed from dataset\n",
      "'AUDIT10' were removed from dataset\n",
      "'HAQ1a' were removed from dataset\n",
      "'HAQ1b' were removed from dataset\n",
      "'HAQ2a' were removed from dataset\n",
      "'HAQ2b' were removed from dataset\n",
      "'HAQ3a' were removed from dataset\n",
      "'HAQ3b' were removed from dataset\n",
      "'HAQ3c' were removed from dataset\n",
      "'HAQ4a' were removed from dataset\n",
      "'HAQ4b' were removed from dataset\n",
      "'HAQ5a' were removed from dataset\n",
      "'HAQ5b' were removed from dataset\n",
      "'HAQ5c' were removed from dataset\n",
      "'HAQ6a' were removed from dataset\n",
      "'HAQ6b' were removed from dataset\n",
      "'HAQ7a' were removed from dataset\n",
      "'HAQ7b' were removed from dataset\n",
      "'HAQ7c' were removed from dataset\n",
      "'HAQ8a' were removed from dataset\n",
      "'HAQ8b' were removed from dataset\n",
      "'HAQ8c' were removed from dataset\n",
      "'HAQ9' were removed from dataset\n",
      "'HAQ10' were removed from dataset\n",
      "'HAQ11' were removed from dataset\n",
      "'HAQ12' were removed from dataset\n",
      "'PF01' were removed from dataset\n",
      "'PF02' were removed from dataset\n",
      "'PF03' were removed from dataset\n",
      "'PF04' were removed from dataset\n",
      "'PF05' were removed from dataset\n",
      "'PF06' were removed from dataset\n",
      "'PF07' were removed from dataset\n",
      "'PF08' were removed from dataset\n",
      "'PF09' were removed from dataset\n",
      "'PF10' were removed from dataset\n",
      "'HI7' were removed from dataset\n",
      "'HI12' were removed from dataset\n",
      "'An1' were removed from dataset\n",
      "'An2' were removed from dataset\n",
      "'An3' were removed from dataset\n",
      "'An4' were removed from dataset\n",
      "'An5' were removed from dataset\n",
      "'An7' were removed from dataset\n",
      "'An8' were removed from dataset\n",
      "'An12' were removed from dataset\n",
      "'An14' were removed from dataset\n",
      "'An15' were removed from dataset\n",
      "'An16' were removed from dataset\n",
      "'VT01' were removed from dataset\n",
      "'VT02' were removed from dataset\n",
      "'VT03' were removed from dataset\n",
      "'VT04' were removed from dataset\n",
      "'gf1' were removed from dataset\n",
      "'gf2' were removed from dataset\n",
      "'gf3' were removed from dataset\n",
      "'gf5' were removed from dataset\n",
      "'gf6' were removed from dataset\n",
      "'gf7' were removed from dataset\n",
      "'rp01' were removed from dataset\n",
      "'rp02' were removed from dataset\n",
      "'rp03' were removed from dataset\n",
      "'rp04' were removed from dataset\n",
      "'re01' were removed from dataset\n",
      "'re02' were removed from dataset\n",
      "'re03' were removed from dataset\n",
      "'sf01' were removed from dataset\n",
      "'sf02' were removed from dataset\n",
      "'BPI12' were removed from dataset\n",
      "'BPI13' were removed from dataset\n",
      "'BPI14' were removed from dataset\n",
      "'BPI15' were removed from dataset\n",
      "'BPI23a' were removed from dataset\n",
      "'BPI23b' were removed from dataset\n",
      "'BPI23c' were removed from dataset\n",
      "'BPI23d' were removed from dataset\n",
      "'BPI23e' were removed from dataset\n",
      "'BPI23f' were removed from dataset\n",
      "'BPI23g' were removed from dataset\n",
      "'BP01' were removed from dataset\n",
      "'BP02' were removed from dataset\n",
      "'HAQ1a' were removed from dataset\n",
      "'HAQ1b' were removed from dataset\n",
      "'HAQ2a' were removed from dataset\n",
      "'HAQ2b' were removed from dataset\n",
      "'HAQ3a' were removed from dataset\n",
      "'HAQ3b' were removed from dataset\n",
      "'HAQ3c' were removed from dataset\n",
      "'HAQ4a' were removed from dataset\n",
      "'HAQ4b' were removed from dataset\n",
      "'HAQ5a' were removed from dataset\n",
      "'HAQ5b' were removed from dataset\n",
      "'HAQ5c' were removed from dataset\n",
      "'HAQ6a' were removed from dataset\n",
      "'HAQ6b' were removed from dataset\n",
      "'HAQ7a' were removed from dataset\n",
      "'HAQ7b' were removed from dataset\n",
      "'HAQ7c' were removed from dataset\n",
      "'HAQ8a' were removed from dataset\n",
      "'HAQ8b' were removed from dataset\n",
      "'HAQ8c' were removed from dataset\n",
      "'HAQ9' were removed from dataset\n",
      "'HAQ10' were removed from dataset\n",
      "'HAQ11' were removed from dataset\n",
      "'HAQ12' were removed from dataset\n",
      "'GH01' were removed from dataset\n",
      "'HT' were removed from dataset\n",
      "'GH02' were removed from dataset\n",
      "'GH03' were removed from dataset\n",
      "'GH04' were removed from dataset\n",
      "'GH05' were removed from dataset\n"
     ]
    }
   ],
   "execution_count": 14
  },
  {
   "metadata": {
    "ExecuteTime": {
     "end_time": "2025-01-02T16:55:00.337707Z",
     "start_time": "2025-01-02T16:54:53.026986Z"
    }
   },
   "cell_type": "code",
   "source": [
    "sd_enc_data['correct'] = sd_enc_data.apply(lambda x : (x['correct']-min_response_dict[x['item_id']])/response_range_dict[x['item_id']]+1, axis=1 )\n",
    "scaled_data = sd_enc_data\n",
    "print(f'min value : {scaled_data[\"correct\"].min()}, max value : {scaled_data[\"correct\"].max()}')"
   ],
   "id": "16227ddf196496e7",
   "outputs": [
    {
     "name": "stdout",
     "output_type": "stream",
     "text": [
      "min value : 1.0, max value : 2.0\n"
     ]
    }
   ],
   "execution_count": 15
  },
  {
   "metadata": {
    "collapsed": false
   },
   "cell_type": "markdown",
   "source": "### Get final stats and create metadata",
   "id": "d887c5e72037c54"
  },
  {
   "metadata": {
    "collapsed": false,
    "ExecuteTime": {
     "end_time": "2025-01-02T16:55:00.434774Z",
     "start_time": "2025-01-02T16:55:00.380603Z"
    }
   },
   "cell_type": "code",
   "source": "metadata = get_metadata(scaled_data,[\"user_id\", \"item_id\", \"dimension_id\"])",
   "id": "1420cf5a2ffcaf83",
   "outputs": [],
   "execution_count": 16
  },
  {
   "metadata": {
    "collapsed": false,
    "ExecuteTime": {
     "end_time": "2025-01-02T16:55:01.356001Z",
     "start_time": "2025-01-02T16:55:00.446075Z"
    }
   },
   "cell_type": "code",
   "source": [
    "stat_unique(scaled_data, None)\n",
    "stat_unique(scaled_data, ['user_id', 'item_id'])\n",
    "stat_unique(scaled_data, 'user_id')\n",
    "stat_unique(scaled_data, 'item_id')\n",
    "stat_unique(scaled_data, 'dimension_id')\n",
    "stat_unique(scaled_data, 'correct')\n",
    "\n",
    "scaled_data_dim_grouped_items = scaled_data.groupby(\"dimension_id\")[\"item_id\"].nunique()\n",
    "scaled_data_dim_grouped_users = scaled_data.groupby(\"dimension_id\")[\"user_id\"].nunique()\n",
    "print('#questions/category: {} & {} &  {}'.format(np.min(scaled_data_dim_grouped_items),int(np.round(np.mean(scaled_data_dim_grouped_items))),np.max(scaled_data_dim_grouped_items)))\n",
    "print('#users/category: {} & {} &  {}'.format(np.min(scaled_data_dim_grouped_users),int(np.round(np.mean(scaled_data_dim_grouped_users))),np.max(scaled_data_dim_grouped_users)))\n",
    "\n",
    "scaled_data_dim_grouped_items = scaled_data.groupby(\"item_id\")[\"dimension_id\"].nunique()\n",
    "scaled_data_dim_grouped_users = scaled_data.groupby(\"item_id\")[\"user_id\"].nunique()\n",
    "print('#categorys/question: {} & {} &  {}'.format(np.min(scaled_data_dim_grouped_items),int(np.round(np.mean(scaled_data_dim_grouped_items))),np.max(scaled_data_dim_grouped_items)))\n",
    "print('#users/question: {} & {} &  {}'.format(np.min(scaled_data_dim_grouped_users),int(np.round(np.mean(scaled_data_dim_grouped_users))),np.max(scaled_data_dim_grouped_users)))\n",
    "\n",
    "scaled_data_dim_grouped_items = scaled_data.groupby(\"user_id\")[\"item_id\"].nunique()\n",
    "scaled_data_dim_grouped_users = scaled_data.groupby(\"user_id\")[\"dimension_id\"].nunique()\n",
    "print('#questions/users: {} & {} &  {}'.format(np.min(scaled_data_dim_grouped_items),int(np.round(np.mean(scaled_data_dim_grouped_items))),np.max(scaled_data_dim_grouped_items)))\n",
    "print('#categorys/users: {} & {} &  {}'.format(np.min(scaled_data_dim_grouped_users),int(np.round(np.mean(scaled_data_dim_grouped_users))),np.max(scaled_data_dim_grouped_users)))"
   ],
   "id": "d3ce35f2a3d57db3",
   "outputs": [
    {
     "name": "stdout",
     "output_type": "stream",
     "text": [
      "Total length: 1805842\n",
      "Number of unique [user_id,item_id]: 1805842\n",
      "Number of unique user_id: 16879\n",
      "Number of unique item_id: 790\n",
      "Number of unique dimension_id: 15\n",
      "Number of unique correct: 9\n",
      "#questions/category: 6 & 53 &  56\n",
      "#users/category: 12007 & 12348 &  16559\n",
      "#categorys/question: 1 & 1 &  1\n",
      "#users/question: 1839 & 2286 &  16558\n",
      "#questions/users: 102 & 107 &  118\n",
      "#categorys/users: 2 & 11 &  15\n"
     ]
    }
   ],
   "execution_count": 17
  },
  {
   "metadata": {
    "ExecuteTime": {
     "end_time": "2025-01-02T16:58:11.492564Z",
     "start_time": "2025-01-02T16:58:11.368587Z"
    }
   },
   "cell_type": "code",
   "source": [
    "import matplotlib.pyplot as plt\n",
    "\n",
    "# draw a histogram of the age column\n",
    "(scaled_data['correct']-1).hist(bins=20)\n",
    "\n",
    "# add labels and title\n",
    "plt.xlabel('Responses')\n",
    "plt.ylabel('Number')\n",
    "plt.title('Distribution of Responses')\n"
   ],
   "id": "94cc5809862a8088",
   "outputs": [
    {
     "data": {
      "text/plain": [
       "Text(0.5, 1.0, 'Distribution of Responses')"
      ]
     },
     "execution_count": 19,
     "metadata": {},
     "output_type": "execute_result"
    },
    {
     "data": {
      "text/plain": [
       "<Figure size 640x480 with 1 Axes>"
      ],
      "image/png": "[encoded data removed]"
     },
     "metadata": {},
     "output_type": "display_data"
    }
   ],
   "execution_count": 19
  },
  {
   "metadata": {
    "collapsed": false
   },
   "cell_type": "markdown",
   "source": "### Save data, concept map and metadata",
   "id": "af2a1ef2455361fa"
  },
  {
   "cell_type": "code",
   "source": [
    "# save selected data\n",
    "scaled_data.to_csv('selected_data.csv', index=False)"
   ],
   "metadata": {
    "collapsed": false,
    "ExecuteTime": {
     "end_time": "2024-12-14T14:38:18.921214Z",
     "start_time": "2024-12-14T14:38:17.753546Z"
    }
   },
   "id": "9314705046e62dcb",
   "outputs": [],
   "execution_count": 42
  },
  {
   "cell_type": "code",
   "source": [
    "# Convert int64 keys to a compatible type (e.g., int)\n",
    "q2k_serializable = {str(key): value for key, value in q2k.items()}\n",
    "# save concept map\n",
    "with open('concept_map.json', 'w') as f:\n",
    "    json.dump(q2k_serializable, f)"
   ],
   "metadata": {
    "collapsed": false,
    "ExecuteTime": {
     "end_time": "2024-12-14T14:38:18.935802Z",
     "start_time": "2024-12-14T14:38:18.924254Z"
    }
   },
   "id": "872a9d18248379e3",
   "outputs": [],
   "execution_count": 43
  },
  {
   "cell_type": "code",
   "source": [
    "# save metadata\n",
    "with open('metadata.json', 'w') as f:\n",
    "    json.dump(metadata, f)"
   ],
   "metadata": {
    "collapsed": false,
    "ExecuteTime": {
     "end_time": "2024-12-14T14:38:18.983721Z",
     "start_time": "2024-12-14T14:38:18.969079Z"
    }
   },
   "id": "6fdbebe69540c57c",
   "outputs": [],
   "execution_count": 44
  },
  {
   "cell_type": "markdown",
   "source": [
    "## parse data"
   ],
   "metadata": {
    "collapsed": false
   },
   "id": "db9f1ae6fa56cfa1"
  },
  {
   "cell_type": "code",
   "source": "quadruplet = quadruplet_format(scaled_data)",
   "metadata": {
    "collapsed": false,
    "ExecuteTime": {
     "end_time": "2024-12-14T14:38:23.399269Z",
     "start_time": "2024-12-14T14:38:21.869458Z"
    }
   },
   "id": "3b97a578bdb0ec0b",
   "outputs": [],
   "execution_count": 45
  },
  {
   "cell_type": "code",
   "source": "stu_data, ques_data = parse_data(scaled_data)",
   "metadata": {
    "collapsed": false,
    "ExecuteTime": {
     "end_time": "2024-12-14T14:39:02.356467Z",
     "start_time": "2024-12-14T14:38:23.402539Z"
    }
   },
   "id": "53610eb7a85babfb",
   "outputs": [],
   "execution_count": 46
  },
  {
   "cell_type": "code",
   "source": [
    "test_size = 0.2\n",
    "valid_size = 0.2 # proportion over the all dataset\n",
    "least_test_length=100"
   ],
   "metadata": {
    "collapsed": false,
    "ExecuteTime": {
     "end_time": "2024-12-14T14:39:02.382352Z",
     "start_time": "2024-12-14T14:39:02.374326Z"
    }
   },
   "id": "664d88228a03713c",
   "outputs": [],
   "execution_count": 47
  },
  {
   "cell_type": "markdown",
   "source": [
    "## Horizontal split"
   ],
   "metadata": {
    "collapsed": false
   },
   "id": "8d22511250870e52"
  },
  {
   "cell_type": "code",
   "source": "train_data, valid_data, test_data = split_data(quadruplet, stu_data, test_prop=test_size, valid_prop=valid_size, least_test_length=least_test_length) ",
   "metadata": {
    "collapsed": false,
    "ExecuteTime": {
     "end_time": "2024-05-27T14:53:17.312841Z",
     "start_time": "2024-05-27T14:53:16.863329Z"
    }
   },
   "id": "7fd17508c0838406",
   "execution_count": 35,
   "outputs": []
  },
  {
   "cell_type": "code",
   "source": [
    "print(f'train records length: {len(train_data)}')\n",
    "print(f'test records length: {len(test_data)}')\n",
    "print(f'valid records length: {len(valid_data)}')\n",
    "print(f'all records length: {len(train_data)+len(valid_data)+len(test_data)}')"
   ],
   "metadata": {
    "collapsed": false,
    "ExecuteTime": {
     "end_time": "2024-05-27T14:53:17.954456Z",
     "start_time": "2024-05-27T14:53:17.945177Z"
    }
   },
   "id": "6de4b9dcb1e94b92",
   "execution_count": 36,
   "outputs": []
  },
  {
   "cell_type": "markdown",
   "source": [
    "## save row data"
   ],
   "metadata": {
    "collapsed": false
   },
   "id": "eb9d52bc042dd09a"
  },
  {
   "cell_type": "code",
   "source": [
    "save_to_csv(train_data, '../2-preprocessed_data/promis_train_quadruples.csv')\n",
    "save_to_csv(valid_data, '../2-preprocessed_data/promis_valid_quadruples.csv')\n",
    "save_to_csv(test_data, '../2-preprocessed_data/promis_test_quadruples.csv')"
   ],
   "metadata": {
    "collapsed": false,
    "ExecuteTime": {
     "end_time": "2024-05-27T14:53:20.940435Z",
     "start_time": "2024-05-27T14:53:19.485388Z"
    }
   },
   "id": "b12f56e994788895",
   "execution_count": 37,
   "outputs": []
  },
  {
   "cell_type": "markdown",
   "source": [
    "## vertical split"
   ],
   "metadata": {
    "collapsed": false
   },
   "id": "7edeb85a60554003"
  },
  {
   "cell_type": "code",
   "source": "train_data, valid_data, test_data = split_data_vertically(quadruplet, test_prop=test_size,valid_prop=valid_size, folds_nb=5)",
   "metadata": {
    "collapsed": false,
    "ExecuteTime": {
     "end_time": "2024-12-14T14:39:48.128708Z",
     "start_time": "2024-12-14T14:39:02.415951Z"
    }
   },
   "id": "cf7c3ff5225454b0",
   "outputs": [],
   "execution_count": 48
  },
  {
   "cell_type": "code",
   "source": [
    "for i_fold, train_fold in enumerate(train_data):\n",
    "    save_to_csv(train_data[i_fold], f'../2-preprocessed_data/promis_train_quadruples_vert_{i_fold}.csv')\n",
    "    save_to_csv(valid_data[i_fold], f'../2-preprocessed_data/promis_valid_quadruples_vert_{i_fold}.csv')\n",
    "    save_to_csv(test_data[i_fold], f'../2-preprocessed_data/promis_test_quadruples_vert_{i_fold}.csv')"
   ],
   "metadata": {
    "collapsed": false,
    "ExecuteTime": {
     "end_time": "2024-12-14T14:39:59.497421Z",
     "start_time": "2024-12-14T14:39:48.140504Z"
    }
   },
   "id": "2d6e135c1af1d59a",
   "outputs": [],
   "execution_count": 49
  },
  {
   "metadata": {},
   "cell_type": "markdown",
   "source": "#### Toy dataset generation",
   "id": "b7abbd2559979557"
  },
  {
   "metadata": {
    "ExecuteTime": {
     "end_time": "2024-12-14T14:46:44.655124Z",
     "start_time": "2024-12-14T14:46:38.247844Z"
    }
   },
   "cell_type": "code",
   "source": [
    "train_data_small, valid_data_small, test_data_small = split_small_data_vertically(quadruplet, test_prop=0.8,valid_prop=0.1)\n",
    "\n",
    "save_to_csv(train_data_small, f'../2-preprocessed_data/promis_small_train_quadruples_vert_{0}.csv')\n",
    "save_to_csv(valid_data_small, f'../2-preprocessed_data/promis_small_valid_quadruples_vert_{0}.csv')\n",
    "save_to_csv(test_data_small, f'../2-preprocessed_data/promis_small_test_quadruples_vert_{0}.csv')"
   ],
   "id": "ecfd909b6e77f361",
   "outputs": [],
   "execution_count": 50
  },
  {
   "cell_type": "markdown",
   "source": "### one hot encoding",
   "metadata": {
    "collapsed": false
   },
   "id": "c7eeafe2ff24f36b"
  },
  {
   "metadata": {
    "ExecuteTime": {
     "end_time": "2024-09-13T10:05:14.974560Z",
     "start_time": "2024-09-13T10:05:14.812166Z"
    }
   },
   "cell_type": "code",
   "source": [
    "train = pd.read_csv(\"../2-preprocessed_data/promis_train_quadruples.csv\").astype({'student_id':int, 'item_id':int, \"correct\":float})\n",
    "duplicated_train = one_hot_encoding(train,response_range_dict)\n",
    "duplicated_train.to_csv('../2-preprocessed_data/promis_train_quadruples_ohe.csv', index=False)"
   ],
   "id": "a4977055993f1459",
   "outputs": [
    {
     "ename": "FileNotFoundError",
     "evalue": "[Errno 2] No such file or directory: 'train_triples.csv'",
     "output_type": "error",
     "traceback": [
      "\u001B[0;31m---------------------------------------------------------------------------\u001B[0m",
      "\u001B[0;31mFileNotFoundError\u001B[0m                         Traceback (most recent call last)",
      "Cell \u001B[0;32mIn[93], line 1\u001B[0m\n\u001B[0;32m----> 1\u001B[0m train \u001B[38;5;241m=\u001B[39m pd\u001B[38;5;241m.\u001B[39mread_csv(\u001B[38;5;124m\"\u001B[39m\u001B[38;5;124mtrain_triples.csv\u001B[39m\u001B[38;5;124m\"\u001B[39m)\u001B[38;5;241m.\u001B[39mastype({\u001B[38;5;124m'\u001B[39m\u001B[38;5;124mstudent_id\u001B[39m\u001B[38;5;124m'\u001B[39m:\u001B[38;5;28mint\u001B[39m, \u001B[38;5;124m'\u001B[39m\u001B[38;5;124mitem_id\u001B[39m\u001B[38;5;124m'\u001B[39m:\u001B[38;5;28mint\u001B[39m, \u001B[38;5;124m\"\u001B[39m\u001B[38;5;124mcorrect\u001B[39m\u001B[38;5;124m\"\u001B[39m:\u001B[38;5;28mfloat\u001B[39m})\n\u001B[1;32m      2\u001B[0m duplicated_train \u001B[38;5;241m=\u001B[39m one_hot_encoding(train,response_range_dict)\n\u001B[1;32m      3\u001B[0m duplicated_train\u001B[38;5;241m.\u001B[39mto_csv(\u001B[38;5;124m'\u001B[39m\u001B[38;5;124mtrain_triples_ohe.csv\u001B[39m\u001B[38;5;124m'\u001B[39m, index\u001B[38;5;241m=\u001B[39m\u001B[38;5;28;01mFalse\u001B[39;00m)\n",
      "File \u001B[0;32m~/anaconda3/envs/liriscat/lib/python3.12/site-packages/pandas/io/parsers/readers.py:948\u001B[0m, in \u001B[0;36mread_csv\u001B[0;34m(filepath_or_buffer, sep, delimiter, header, names, index_col, usecols, dtype, engine, converters, true_values, false_values, skipinitialspace, skiprows, skipfooter, nrows, na_values, keep_default_na, na_filter, verbose, skip_blank_lines, parse_dates, infer_datetime_format, keep_date_col, date_parser, date_format, dayfirst, cache_dates, iterator, chunksize, compression, thousands, decimal, lineterminator, quotechar, quoting, doublequote, escapechar, comment, encoding, encoding_errors, dialect, on_bad_lines, delim_whitespace, low_memory, memory_map, float_precision, storage_options, dtype_backend)\u001B[0m\n\u001B[1;32m    935\u001B[0m kwds_defaults \u001B[38;5;241m=\u001B[39m _refine_defaults_read(\n\u001B[1;32m    936\u001B[0m     dialect,\n\u001B[1;32m    937\u001B[0m     delimiter,\n\u001B[0;32m   (...)\u001B[0m\n\u001B[1;32m    944\u001B[0m     dtype_backend\u001B[38;5;241m=\u001B[39mdtype_backend,\n\u001B[1;32m    945\u001B[0m )\n\u001B[1;32m    946\u001B[0m kwds\u001B[38;5;241m.\u001B[39mupdate(kwds_defaults)\n\u001B[0;32m--> 948\u001B[0m \u001B[38;5;28;01mreturn\u001B[39;00m _read(filepath_or_buffer, kwds)\n",
      "File \u001B[0;32m~/anaconda3/envs/liriscat/lib/python3.12/site-packages/pandas/io/parsers/readers.py:611\u001B[0m, in \u001B[0;36m_read\u001B[0;34m(filepath_or_buffer, kwds)\u001B[0m\n\u001B[1;32m    608\u001B[0m _validate_names(kwds\u001B[38;5;241m.\u001B[39mget(\u001B[38;5;124m\"\u001B[39m\u001B[38;5;124mnames\u001B[39m\u001B[38;5;124m\"\u001B[39m, \u001B[38;5;28;01mNone\u001B[39;00m))\n\u001B[1;32m    610\u001B[0m \u001B[38;5;66;03m# Create the parser.\u001B[39;00m\n\u001B[0;32m--> 611\u001B[0m parser \u001B[38;5;241m=\u001B[39m TextFileReader(filepath_or_buffer, \u001B[38;5;241m*\u001B[39m\u001B[38;5;241m*\u001B[39mkwds)\n\u001B[1;32m    613\u001B[0m \u001B[38;5;28;01mif\u001B[39;00m chunksize \u001B[38;5;129;01mor\u001B[39;00m iterator:\n\u001B[1;32m    614\u001B[0m     \u001B[38;5;28;01mreturn\u001B[39;00m parser\n",
      "File \u001B[0;32m~/anaconda3/envs/liriscat/lib/python3.12/site-packages/pandas/io/parsers/readers.py:1448\u001B[0m, in \u001B[0;36mTextFileReader.__init__\u001B[0;34m(self, f, engine, **kwds)\u001B[0m\n\u001B[1;32m   1445\u001B[0m     \u001B[38;5;28mself\u001B[39m\u001B[38;5;241m.\u001B[39moptions[\u001B[38;5;124m\"\u001B[39m\u001B[38;5;124mhas_index_names\u001B[39m\u001B[38;5;124m\"\u001B[39m] \u001B[38;5;241m=\u001B[39m kwds[\u001B[38;5;124m\"\u001B[39m\u001B[38;5;124mhas_index_names\u001B[39m\u001B[38;5;124m\"\u001B[39m]\n\u001B[1;32m   1447\u001B[0m \u001B[38;5;28mself\u001B[39m\u001B[38;5;241m.\u001B[39mhandles: IOHandles \u001B[38;5;241m|\u001B[39m \u001B[38;5;28;01mNone\u001B[39;00m \u001B[38;5;241m=\u001B[39m \u001B[38;5;28;01mNone\u001B[39;00m\n\u001B[0;32m-> 1448\u001B[0m \u001B[38;5;28mself\u001B[39m\u001B[38;5;241m.\u001B[39m_engine \u001B[38;5;241m=\u001B[39m \u001B[38;5;28mself\u001B[39m\u001B[38;5;241m.\u001B[39m_make_engine(f, \u001B[38;5;28mself\u001B[39m\u001B[38;5;241m.\u001B[39mengine)\n",
      "File \u001B[0;32m~/anaconda3/envs/liriscat/lib/python3.12/site-packages/pandas/io/parsers/readers.py:1705\u001B[0m, in \u001B[0;36mTextFileReader._make_engine\u001B[0;34m(self, f, engine)\u001B[0m\n\u001B[1;32m   1703\u001B[0m     \u001B[38;5;28;01mif\u001B[39;00m \u001B[38;5;124m\"\u001B[39m\u001B[38;5;124mb\u001B[39m\u001B[38;5;124m\"\u001B[39m \u001B[38;5;129;01mnot\u001B[39;00m \u001B[38;5;129;01min\u001B[39;00m mode:\n\u001B[1;32m   1704\u001B[0m         mode \u001B[38;5;241m+\u001B[39m\u001B[38;5;241m=\u001B[39m \u001B[38;5;124m\"\u001B[39m\u001B[38;5;124mb\u001B[39m\u001B[38;5;124m\"\u001B[39m\n\u001B[0;32m-> 1705\u001B[0m \u001B[38;5;28mself\u001B[39m\u001B[38;5;241m.\u001B[39mhandles \u001B[38;5;241m=\u001B[39m get_handle(\n\u001B[1;32m   1706\u001B[0m     f,\n\u001B[1;32m   1707\u001B[0m     mode,\n\u001B[1;32m   1708\u001B[0m     encoding\u001B[38;5;241m=\u001B[39m\u001B[38;5;28mself\u001B[39m\u001B[38;5;241m.\u001B[39moptions\u001B[38;5;241m.\u001B[39mget(\u001B[38;5;124m\"\u001B[39m\u001B[38;5;124mencoding\u001B[39m\u001B[38;5;124m\"\u001B[39m, \u001B[38;5;28;01mNone\u001B[39;00m),\n\u001B[1;32m   1709\u001B[0m     compression\u001B[38;5;241m=\u001B[39m\u001B[38;5;28mself\u001B[39m\u001B[38;5;241m.\u001B[39moptions\u001B[38;5;241m.\u001B[39mget(\u001B[38;5;124m\"\u001B[39m\u001B[38;5;124mcompression\u001B[39m\u001B[38;5;124m\"\u001B[39m, \u001B[38;5;28;01mNone\u001B[39;00m),\n\u001B[1;32m   1710\u001B[0m     memory_map\u001B[38;5;241m=\u001B[39m\u001B[38;5;28mself\u001B[39m\u001B[38;5;241m.\u001B[39moptions\u001B[38;5;241m.\u001B[39mget(\u001B[38;5;124m\"\u001B[39m\u001B[38;5;124mmemory_map\u001B[39m\u001B[38;5;124m\"\u001B[39m, \u001B[38;5;28;01mFalse\u001B[39;00m),\n\u001B[1;32m   1711\u001B[0m     is_text\u001B[38;5;241m=\u001B[39mis_text,\n\u001B[1;32m   1712\u001B[0m     errors\u001B[38;5;241m=\u001B[39m\u001B[38;5;28mself\u001B[39m\u001B[38;5;241m.\u001B[39moptions\u001B[38;5;241m.\u001B[39mget(\u001B[38;5;124m\"\u001B[39m\u001B[38;5;124mencoding_errors\u001B[39m\u001B[38;5;124m\"\u001B[39m, \u001B[38;5;124m\"\u001B[39m\u001B[38;5;124mstrict\u001B[39m\u001B[38;5;124m\"\u001B[39m),\n\u001B[1;32m   1713\u001B[0m     storage_options\u001B[38;5;241m=\u001B[39m\u001B[38;5;28mself\u001B[39m\u001B[38;5;241m.\u001B[39moptions\u001B[38;5;241m.\u001B[39mget(\u001B[38;5;124m\"\u001B[39m\u001B[38;5;124mstorage_options\u001B[39m\u001B[38;5;124m\"\u001B[39m, \u001B[38;5;28;01mNone\u001B[39;00m),\n\u001B[1;32m   1714\u001B[0m )\n\u001B[1;32m   1715\u001B[0m \u001B[38;5;28;01massert\u001B[39;00m \u001B[38;5;28mself\u001B[39m\u001B[38;5;241m.\u001B[39mhandles \u001B[38;5;129;01mis\u001B[39;00m \u001B[38;5;129;01mnot\u001B[39;00m \u001B[38;5;28;01mNone\u001B[39;00m\n\u001B[1;32m   1716\u001B[0m f \u001B[38;5;241m=\u001B[39m \u001B[38;5;28mself\u001B[39m\u001B[38;5;241m.\u001B[39mhandles\u001B[38;5;241m.\u001B[39mhandle\n",
      "File \u001B[0;32m~/anaconda3/envs/liriscat/lib/python3.12/site-packages/pandas/io/common.py:863\u001B[0m, in \u001B[0;36mget_handle\u001B[0;34m(path_or_buf, mode, encoding, compression, memory_map, is_text, errors, storage_options)\u001B[0m\n\u001B[1;32m    858\u001B[0m \u001B[38;5;28;01melif\u001B[39;00m \u001B[38;5;28misinstance\u001B[39m(handle, \u001B[38;5;28mstr\u001B[39m):\n\u001B[1;32m    859\u001B[0m     \u001B[38;5;66;03m# Check whether the filename is to be opened in binary mode.\u001B[39;00m\n\u001B[1;32m    860\u001B[0m     \u001B[38;5;66;03m# Binary mode does not support 'encoding' and 'newline'.\u001B[39;00m\n\u001B[1;32m    861\u001B[0m     \u001B[38;5;28;01mif\u001B[39;00m ioargs\u001B[38;5;241m.\u001B[39mencoding \u001B[38;5;129;01mand\u001B[39;00m \u001B[38;5;124m\"\u001B[39m\u001B[38;5;124mb\u001B[39m\u001B[38;5;124m\"\u001B[39m \u001B[38;5;129;01mnot\u001B[39;00m \u001B[38;5;129;01min\u001B[39;00m ioargs\u001B[38;5;241m.\u001B[39mmode:\n\u001B[1;32m    862\u001B[0m         \u001B[38;5;66;03m# Encoding\u001B[39;00m\n\u001B[0;32m--> 863\u001B[0m         handle \u001B[38;5;241m=\u001B[39m \u001B[38;5;28mopen\u001B[39m(\n\u001B[1;32m    864\u001B[0m             handle,\n\u001B[1;32m    865\u001B[0m             ioargs\u001B[38;5;241m.\u001B[39mmode,\n\u001B[1;32m    866\u001B[0m             encoding\u001B[38;5;241m=\u001B[39mioargs\u001B[38;5;241m.\u001B[39mencoding,\n\u001B[1;32m    867\u001B[0m             errors\u001B[38;5;241m=\u001B[39merrors,\n\u001B[1;32m    868\u001B[0m             newline\u001B[38;5;241m=\u001B[39m\u001B[38;5;124m\"\u001B[39m\u001B[38;5;124m\"\u001B[39m,\n\u001B[1;32m    869\u001B[0m         )\n\u001B[1;32m    870\u001B[0m     \u001B[38;5;28;01melse\u001B[39;00m:\n\u001B[1;32m    871\u001B[0m         \u001B[38;5;66;03m# Binary mode\u001B[39;00m\n\u001B[1;32m    872\u001B[0m         handle \u001B[38;5;241m=\u001B[39m \u001B[38;5;28mopen\u001B[39m(handle, ioargs\u001B[38;5;241m.\u001B[39mmode)\n",
      "\u001B[0;31mFileNotFoundError\u001B[0m: [Errno 2] No such file or directory: 'train_triples.csv'"
     ]
    }
   ],
   "execution_count": 93
  },
  {
   "cell_type": "code",
   "source": [
    "valid = pd.read_csv(\"../2-preprocessed_data/promis_valid_quadruples.csv\").astype({'student_id':int, 'item_id':int, \"correct\":float})\n",
    "duplicated_valid = one_hot_encoding(valid,response_range_dict)\n",
    "duplicated_valid.to_csv('../2-preprocessed_data/promis_valid_quadruples_ohe.csv', index=False)"
   ],
   "metadata": {
    "collapsed": false,
    "jupyter": {
     "is_executing": true
    }
   },
   "id": "b41937724507a00d",
   "execution_count": null,
   "outputs": []
  },
  {
   "cell_type": "code",
   "source": [
    "test = pd.read_csv(\"../2-preprocessed_data/promis_test_quadruples.csv\")\n",
    "duplicated_test = one_hot_encoding(test,response_range_dict)\n",
    "duplicated_test.to_csv('../2-preprocessed_data/promis_test_quadruples_ohe.csv', index=False)"
   ],
   "metadata": {
    "collapsed": false,
    "ExecuteTime": {
     "end_time": "2024-09-13T10:05:15.049540987Z",
     "start_time": "2024-04-08T13:33:12.185094Z"
    }
   },
   "id": "91a55660aae3f0d",
   "execution_count": 52,
   "outputs": []
  },
  {
   "metadata": {
    "ExecuteTime": {
     "end_time": "2024-09-13T10:10:40.239889Z",
     "start_time": "2024-09-13T10:10:33.077030Z"
    }
   },
   "cell_type": "code",
   "source": [
    "import numpy as np\n",
    "import pandas as pd\n",
    "from tqdm import tqdm\n",
    "\n",
    "for i in range(5) : \n",
    "    train = pd.read_csv(\"../2-preprocessed_data/promis_train_quadruples_vert_\"+str(i)+\".csv\").astype({'student_id':int, 'item_id':int, \"correct\":float})\n",
    "    duplicated_train = one_hot_encoding(train,response_range_dict)\n",
    "    duplicated_train.to_csv('../2-preprocessed_data/promis_train_quadruples_vert_ohe_'+str(i)+'.csv', index=False)\n",
    "    \n",
    "    valid = pd.read_csv(\"../2-preprocessed_data/promis_valid_quadruples_vert_\"+str(i)+\".csv\").astype({'student_id':int, 'item_id':int, \"correct\":float})\n",
    "    duplicated_valid = one_hot_encoding(valid,response_range_dict)\n",
    "    duplicated_valid.to_csv('../2-preprocessed_data/promis_valid_quadruples_vert_ohe_'+str(i)+'.csv', index=False)\n",
    "    \n",
    "    test = pd.read_csv(\"../2-preprocessed_data/promis_test_quadruples_vert_\"+str(i)+\".csv\").astype({'student_id':int, 'item_id':int, \"correct\":float})\n",
    "    duplicated_test = one_hot_encoding(test,response_range_dict)\n",
    "    duplicated_test.to_csv('../2-preprocessed_data/promis_test_quadruples_vert_ohe_'+str(i)+'.csv', index=False)"
   ],
   "id": "7d4eac15e4dea77b",
   "outputs": [
    {
     "name": "stderr",
     "output_type": "stream",
     "text": [
      "  2%|▏         | 18306/1136550 [00:06<07:02, 2648.90it/s]\n"
     ]
    },
    {
     "ename": "IndexError",
     "evalue": "index 1 is out of bounds for axis 0 with size 1",
     "output_type": "error",
     "traceback": [
      "\u001B[0;31m---------------------------------------------------------------------------\u001B[0m",
      "\u001B[0;31mIndexError\u001B[0m                                Traceback (most recent call last)",
      "Cell \u001B[0;32mIn[95], line 7\u001B[0m\n\u001B[1;32m      5\u001B[0m \u001B[38;5;28;01mfor\u001B[39;00m i \u001B[38;5;129;01min\u001B[39;00m \u001B[38;5;28mrange\u001B[39m(\u001B[38;5;241m5\u001B[39m) : \n\u001B[1;32m      6\u001B[0m     train \u001B[38;5;241m=\u001B[39m pd\u001B[38;5;241m.\u001B[39mread_csv(\u001B[38;5;124m\"\u001B[39m\u001B[38;5;124mtrain_triples_vert_\u001B[39m\u001B[38;5;124m\"\u001B[39m\u001B[38;5;241m+\u001B[39m\u001B[38;5;28mstr\u001B[39m(i)\u001B[38;5;241m+\u001B[39m\u001B[38;5;124m\"\u001B[39m\u001B[38;5;124m.csv\u001B[39m\u001B[38;5;124m\"\u001B[39m)\u001B[38;5;241m.\u001B[39mastype({\u001B[38;5;124m'\u001B[39m\u001B[38;5;124mstudent_id\u001B[39m\u001B[38;5;124m'\u001B[39m:\u001B[38;5;28mint\u001B[39m, \u001B[38;5;124m'\u001B[39m\u001B[38;5;124mitem_id\u001B[39m\u001B[38;5;124m'\u001B[39m:\u001B[38;5;28mint\u001B[39m, \u001B[38;5;124m\"\u001B[39m\u001B[38;5;124mcorrect\u001B[39m\u001B[38;5;124m\"\u001B[39m:\u001B[38;5;28mfloat\u001B[39m})\n\u001B[0;32m----> 7\u001B[0m     duplicated_train \u001B[38;5;241m=\u001B[39m one_hot_encoding(train,response_range_dict)\n\u001B[1;32m      8\u001B[0m     duplicated_train\u001B[38;5;241m.\u001B[39mto_csv(\u001B[38;5;124m'\u001B[39m\u001B[38;5;124mtrain_triples_vert_ohe_\u001B[39m\u001B[38;5;124m'\u001B[39m\u001B[38;5;241m+\u001B[39m\u001B[38;5;28mstr\u001B[39m(i)\u001B[38;5;241m+\u001B[39m\u001B[38;5;124m'\u001B[39m\u001B[38;5;124m.csv\u001B[39m\u001B[38;5;124m'\u001B[39m, index\u001B[38;5;241m=\u001B[39m\u001B[38;5;28;01mFalse\u001B[39;00m)\n\u001B[1;32m     10\u001B[0m     valid \u001B[38;5;241m=\u001B[39m pd\u001B[38;5;241m.\u001B[39mread_csv(\u001B[38;5;124m\"\u001B[39m\u001B[38;5;124mvalid_triples_vert_\u001B[39m\u001B[38;5;124m\"\u001B[39m\u001B[38;5;241m+\u001B[39m\u001B[38;5;28mstr\u001B[39m(i)\u001B[38;5;241m+\u001B[39m\u001B[38;5;124m\"\u001B[39m\u001B[38;5;124m.csv\u001B[39m\u001B[38;5;124m\"\u001B[39m)\u001B[38;5;241m.\u001B[39mastype({\u001B[38;5;124m'\u001B[39m\u001B[38;5;124mstudent_id\u001B[39m\u001B[38;5;124m'\u001B[39m:\u001B[38;5;28mint\u001B[39m, \u001B[38;5;124m'\u001B[39m\u001B[38;5;124mitem_id\u001B[39m\u001B[38;5;124m'\u001B[39m:\u001B[38;5;28mint\u001B[39m, \u001B[38;5;124m\"\u001B[39m\u001B[38;5;124mcorrect\u001B[39m\u001B[38;5;124m\"\u001B[39m:\u001B[38;5;28mfloat\u001B[39m})\n",
      "File \u001B[0;32m~/Programmation/liriscat/experiments/datasets/promis/../data_utils/preprocessing_utilities.py:166\u001B[0m, in \u001B[0;36mone_hot_encoding\u001B[0;34m(df, response_range_dict)\u001B[0m\n\u001B[1;32m    164\u001B[0m \u001B[38;5;66;03m# Create a binary list using numpy\u001B[39;00m\n\u001B[1;32m    165\u001B[0m c_binary_list \u001B[38;5;241m=\u001B[39m np\u001B[38;5;241m.\u001B[39mzeros(r_range, dtype\u001B[38;5;241m=\u001B[39m\u001B[38;5;28mint\u001B[39m)\n\u001B[0;32m--> 166\u001B[0m c_binary_list[c \u001B[38;5;241m-\u001B[39m \u001B[38;5;241m1\u001B[39m] \u001B[38;5;241m=\u001B[39m \u001B[38;5;241m1\u001B[39m\n\u001B[1;32m    168\u001B[0m \u001B[38;5;66;03m# Duplicate the row r_range times\u001B[39;00m\n\u001B[1;32m    169\u001B[0m duplicated_rows \u001B[38;5;241m=\u001B[39m pd\u001B[38;5;241m.\u001B[39mDataFrame([row] \u001B[38;5;241m*\u001B[39m r_range)\n",
      "\u001B[0;31mIndexError\u001B[0m: index 1 is out of bounds for axis 0 with size 1"
     ]
    }
   ],
   "execution_count": 95
  },
  {
   "metadata": {},
   "cell_type": "code",
   "outputs": [],
   "execution_count": null,
   "source": "",
   "id": "c74d6519f1abc7ae"
  }
 ],
 "metadata": {
  "kernelspec": {
   "display_name": "Python 3",
   "language": "python",
   "name": "python3"
  },
  "language_info": {
   "codemirror_mode": {
    "name": "ipython",
    "version": 2
   },
   "file_extension": ".py",
   "mimetype": "text/x-python",
   "name": "python",
   "nbconvert_exporter": "python",
   "pygments_lexer": "ipython2",
   "version": "2.7.6"
  }
 },
 "nbformat": 4,
 "nbformat_minor": 5
}
